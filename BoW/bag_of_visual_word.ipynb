{
 "cells": [
  {
   "cell_type": "code",
   "execution_count": 4,
   "metadata": {},
   "outputs": [],
   "source": [
    "import sys\n",
    "import cv2\n",
    "import numpy as np\n",
    "\n",
    "import joblib\n",
    "\n",
    "import matplotlib.pyplot as plt\n",
    "sys.path.append('../')\n",
    "from utils import data"
   ]
  },
  {
   "cell_type": "code",
   "execution_count": 5,
   "metadata": {},
   "outputs": [],
   "source": [
    "model_filename = 'kmeans_model.joblib'\n",
    "kmeans_loaded = joblib.load(model_filename)\n",
    "\n"
   ]
  },
  {
   "cell_type": "code",
   "execution_count": 6,
   "metadata": {},
   "outputs": [],
   "source": [
    "def process_img(img):\n",
    "    orb=cv2.ORB_create(100)\n",
    "    feats=cv2.goodFeaturesToTrack(np.mean(img,axis=2).astype(np.uint8),3000,qualityLevel=0.01,minDistance=3)\n",
    "    kps=[cv2.KeyPoint(x=f[0][0],y=f[0][1],size=20) for f in feats]\n",
    "    kps,des=orb.compute(img,kps)\n",
    "    return des\n",
    "\n",
    "def descriptor(image,dataset_path):\n",
    "      global kmeans_loaded\n",
    "      # for i in range(10):\n",
    "      frame=cv2.imread(dataset_path+image)      \n",
    "      des=process_img(frame)\n",
    "      labels = kmeans_loaded.predict(des)\n",
    "      print(kmeans_loaded.labels_)\n",
    "      hist, edges = np.histogram(labels, bins=kmeans_loaded.n_clusters)\n",
    "\n",
    "      print(hist)\n",
    "        # Plot histogram\n",
    "      # plt.hist(hist, bins=150)\n",
    "      plt.bar(edges[:-1], hist, width=np.diff(edges), edgecolor='black')\n",
    "      plt.title('Histogram of Random Data')\n",
    "      plt.xlabel('Values')\n",
    "      plt.ylabel('Frequency')\n",
    "      plt.show()\n",
    "\n",
    "\n",
    "      print(\"predicted labels:\", labels)\n",
    "\n",
    "\n",
    "\n",
    "        "
   ]
  },
  {
   "cell_type": "code",
   "execution_count": 3,
   "metadata": {},
   "outputs": [
    {
     "data": {
      "text/plain": [
       "array([ 4,  9, 16])"
      ]
     },
     "execution_count": 3,
     "metadata": {},
     "output_type": "execute_result"
    }
   ],
   "source": [
    "import numpy as np\n",
    "a=[2,3,4]\n",
    "b=[2,3,4]\n",
    "np.multiply(a,b)"
   ]
  },
  {
   "cell_type": "code",
   "execution_count": 7,
   "metadata": {},
   "outputs": [],
   "source": [
    "def update_kmean(dataset_path,i):\n",
    "    global kmeans\n",
    "    \n",
    "    rgb_paths=dataset_path+'rgb.txt'\n",
    "    \n",
    "    image_list=data(rgb_paths)\n",
    "    \n",
    "    if image_list is None:\n",
    "        return\n",
    "    \n",
    "    des_array=descriptor(image_list[i],dataset_path)"
   ]
  },
  {
   "cell_type": "code",
   "execution_count": 8,
   "metadata": {},
   "outputs": [
    {
     "name": "stdout",
     "output_type": "stream",
     "text": [
      "[271 671 519 ... 354 399 447]\n",
      "[  1   3   0   3   4   2   0   1   3   1   2   4   9   3   5   4   6   0\n",
      "   5   1   7  30   2   0   2  12   0   3   2   5   7   1   0   3   6   8\n",
      "   3   2   4   1   4   0   6   5   3   2   1   0   0   4   1   4   0   2\n",
      "   3   3   1   1   1   0   7   1   0   4   2   5   3   1   0   2   3   0\n",
      "   3   1   0   0   2   2   3   0   2   3   0   8   3   6   6   0   0   3\n",
      "   3   5   6   0   2   3   0   2   0   1   1   4   0   2   6   0   1  31\n",
      "   2   2   1   4   1   0   1   4   0   0   0   2   1   1   2   2   0   5\n",
      "   3   3   0   1   9   2   0   1   1   0  14   9   1   5   2   0   1   0\n",
      "   7   1   3   6   5   4   0   0   0   0   4   3   2   4   2   2   1   1\n",
      "   3   1   1   3   3   0   3   1   3   0   3   0  13   0   1   1   2   2\n",
      "   2   1   1   1   1   0   2   6   2   4   3   2  10   0   2   2   7   3\n",
      "   0   0   2   3   3   4   0  11   1   0   1   2   2   8   1   2   0   0\n",
      "   1   3   0   3   0   6   0   1   0   4   0   0  11  11   2   1   1   0\n",
      "   1   1   2   9   0   3   0  72   3   0   7   1   2   1   2   0   0   6\n",
      "   1   0   8   0   2   2   0   6   2   0   1   0   1   2   1   0   0   5\n",
      "   2   0   3   1   2   1   1   0   6   0   2   3   1   0   0   1   3   1\n",
      "   4   3   3   2   3   2   1   5   6   1   0   0   0   6   3   1   1   0\n",
      "   5   0   6   0   0   0   1   1   3  14   2   2   3   7   0   4   3   1\n",
      "   0   1   1   2   0   0   3   0   4   5   1   0   3   5   2   3   1   1\n",
      "   2   1   1   4   0   1   1   0   2   2   2   2 101   1   0   1   2   2\n",
      "   0   2   0   2   0   9  14   0   0   0   2   0   1   1   2   3   2   2\n",
      "   1   0   2  11   0   1   0   1   5   1   1   0   1   0   1   2   7   5\n",
      "   2   2   0   1   2   7   1   0   4   0   3   5   2   4   6   2   0   1\n",
      "   4   0   5   9   1   9   1  14   0   2   0   4   1   0   2   1   3   0\n",
      "   5   0   0   5   3   3  14   0   0   0   1   1   5   0   4   8   1   2\n",
      "   0   4   2   0   0   1   3   0   1   1   3   0   2   1   0   0   1   2\n",
      "   2   2   1   3   1   0  10   0   4   0   1   2   1   0   0   1   9   4\n",
      "   1   1   4   4   2   3   3   6   0   4   0   2   1   3   0   0   5   4\n",
      "   1   1   3   5   6   2   1   0   2   5   1   6   0   9   1   8   3   1\n",
      "   2   1   3   1   1   0   2   1   2   1   0   1   2   1   0   0   1   0\n",
      "   1   0   3   3   0   4   1   4   1   0   5   2   0   4   6   0   1   1\n",
      "   0   1   3   1   1   5   8   0   8   8   4   1   3   2   4   2   1   2\n",
      "   1   0   2   1   1   2   3   0   6   2   2   2   2   0   4   3   2   0\n",
      "   2   0   0   2   0   0   4  12   1   1   4   6  21   0   0   1   2   3\n",
      "   1   0   3   1   3   2   1   0   3   1   2   1   0   1   0   1   0   3\n",
      "   0   0   0   3   3   2   2   4   2   2   1   1   1   5   0   1   6   0\n",
      "   0   3   3   2   0   0   0   0   3   0   2   3   1   1   4   0   0   1\n",
      "   2   1   4   2   1   2   4   1   3   2   5   1   1   0   9   0   4   2\n",
      "   1   2   1   0   2   5   5   4   0   3   1   1   2   4   2   6   3   3\n",
      "   2   1   2   3   1   4   1   1   0   2   4   2   0   2   6   6   0   1\n",
      "   2   0   1   2   1   1   1   1   3   2   2  13   2   1   1   5   2   8\n",
      "   4   0   0   6   2   1   4   4  12   2   1   0   1   3   0   0   2   2\n",
      "   4   2   2   3   2   2   1   0   1  10   0   2   1   0   2   1   6   1\n",
      "   5   0   0   0   2  10   2   1   0   2   0   3   2   2   2   1   0   1\n",
      "  11   0   2   2   0   2   0   1   2   3   1   3   2   4   1   3  10   4\n",
      "   4   0   1   5   5   2   0   0   3   4   4   0   1   0   1   2   0   9\n",
      "   1   2   3   0   1   2   1   0   0   0   1   2   1   1   2   4   0   1\n",
      "   1   3   1   1   1   3   1   2   0   0   0   2   1   4   1   2   7   4\n",
      "   2   0   1   1   0   1   1   0   2   5   1   1   1   4   0   2   1   1\n",
      "   1   2   3   1   1   1   0   4   0   0   1   2   1   1   5   0   0   9\n",
      "   5   2   0   4   0   3   6   2   0   1   2   0   3   0   4   0   3   1\n",
      "   0   0   1   2   2   1   2   2   1   0   1   0   1   1   3   1   1   3\n",
      "   8   4   1   4  11   3   0   6   1   0   4   4   0   0   1   2   3   0\n",
      "   8   5   2   2   9   1   2   0   7   7   0   7   1   1   0   0   1   0\n",
      "   0   1   5   2   4   0   1   1   0   3   1   1   4   1   6   4   1   0\n",
      "   0   1   2   0   1   1   3   0   1   4]\n"
     ]
    },
    {
     "data": {
      "image/png": "[encoded data removed]",
      "text/plain": [
       "<Figure size 640x480 with 1 Axes>"
      ]
     },
     "metadata": {},
     "output_type": "display_data"
    },
    {
     "name": "stdout",
     "output_type": "stream",
     "text": [
      "predicted labels: [ 81 483 892 ... 939 606 404]\n"
     ]
    }
   ],
   "source": [
    "dataset_path='../../dataset/rgbd_dataset_freiburg1_floor/'\n",
    "\n",
    "update_kmean(dataset_path,100)"
   ]
  },
  {
   "cell_type": "code",
   "execution_count": null,
   "metadata": {},
   "outputs": [],
   "source": [
    "dataset_path1='../../dataset/rgbd_dataset_freiburg1_floor/'\n",
    "update_kmean(dataset_path1)\n",
    "dataset_path2='../../dataset/rgbd_dataset_freiburg1_xyz/'\n",
    "update_kmean(dataset_path2)\n",
    "dataset_path3='../../dataset/rgbd_dataset_freiburg2_floor/'\n",
    "update_kmean(dataset_path3)\n",
    "dataset_path4='../../dataset/rgbd_dataset_freiburg2_floor/'\n",
    "update_kmean(dataset_path4)\n",
    "\n"
   ]
  },
  {
   "cell_type": "code",
   "execution_count": 9,
   "metadata": {},
   "outputs": [
    {
     "name": "stdout",
     "output_type": "stream",
     "text": [
      "/home/sujan/.local/lib/python3.8/site-packages/ipykernel_launcher.py--f=/home/sujan/.local/share/jupyter/runtime/kernel-v2-45147FtVh6O6L3Tc.json"
     ]
    }
   ],
   "source": [
    "import sys\n",
    "for thing in sys.argv:\n",
    "    print(thing,end='')\n"
   ]
  },
  {
   "cell_type": "code",
   "execution_count": null,
   "metadata": {},
   "outputs": [],
   "source": []
  }
 ],
 "metadata": {
  "kernelspec": {
   "display_name": "Python 3",
   "language": "python",
   "name": "python3"
  },
  "language_info": {
   "codemirror_mode": {
    "name": "ipython",
    "version": 3
   },
   "file_extension": ".py",
   "mimetype": "text/x-python",
   "name": "python",
   "nbconvert_exporter": "python",
   "pygments_lexer": "ipython3",
   "version": "3.8.10"
  }
 },
 "nbformat": 4,
 "nbformat_minor": 2
}

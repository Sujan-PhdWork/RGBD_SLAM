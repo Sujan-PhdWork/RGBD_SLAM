{
 "cells": [
  {
   "cell_type": "code",
   "execution_count": 20,
   "metadata": {},
   "outputs": [],
   "source": [
    "import sys\n",
    "import cv2\n",
    "import numpy as np\n",
    "\n",
    "import joblib\n",
    "\n",
    "import matplotlib.pyplot as plt\n",
    "sys.path.append('../')\n",
    "from utils import data"
   ]
  },
  {
   "cell_type": "code",
   "execution_count": 47,
   "metadata": {},
   "outputs": [],
   "source": [
    "model_filename = 'kmeans_model.joblib'\n",
    "kmeans_loaded = joblib.load(model_filename)\n",
    "\n"
   ]
  },
  {
   "cell_type": "code",
   "execution_count": 57,
   "metadata": {},
   "outputs": [],
   "source": [
    "def process_img(img):\n",
    "    orb=cv2.ORB_create(100)\n",
    "    feats=cv2.goodFeaturesToTrack(np.mean(img,axis=2).astype(np.uint8),3000,qualityLevel=0.01,minDistance=3)\n",
    "    kps=[cv2.KeyPoint(x=f[0][0],y=f[0][1],size=20) for f in feats]\n",
    "    kps,des=orb.compute(img,kps)\n",
    "    return des\n",
    "\n",
    "def descriptor(image,dataset_path):\n",
    "      global kmeans_loaded\n",
    "      # for i in range(10):\n",
    "      frame=cv2.imread(dataset_path+image)      \n",
    "      des=process_img(frame)\n",
    "      labels = kmeans_loaded.predict(des)\n",
    "      print(kmeans_loaded.labels_)\n",
    "      hist, edges = np.histogram(labels, bins=kmeans_loaded.n_clusters)\n",
    "\n",
    "      \n",
    "        # Plot histogram\n",
    "      # plt.hist(hist, bins=150)\n",
    "      plt.bar(edges[:-1], hist, width=np.diff(edges), edgecolor='black')\n",
    "      plt.title('Histogram of Random Data')\n",
    "      plt.xlabel('Values')\n",
    "      plt.ylabel('Frequency')\n",
    "      plt.show()\n",
    "\n",
    "\n",
    "      print(\"predicted labels:\", labels)\n",
    "\n",
    "\n",
    "\n",
    "        "
   ]
  },
  {
   "cell_type": "code",
   "execution_count": 49,
   "metadata": {},
   "outputs": [],
   "source": [
    "def update_kmean(dataset_path,i):\n",
    "    global kmeans\n",
    "    \n",
    "    rgb_paths=dataset_path+'rgb.txt'\n",
    "    \n",
    "    image_list=data(rgb_paths)\n",
    "    \n",
    "    if image_list is None:\n",
    "        return\n",
    "    \n",
    "    des_array=descriptor(image_list[i],dataset_path)"
   ]
  },
  {
   "cell_type": "code",
   "execution_count": 61,
   "metadata": {},
   "outputs": [
    {
     "name": "stdout",
     "output_type": "stream",
     "text": [
      "[110  91  17 ...  74  75 111]\n"
     ]
    },
    {
     "data": {
      "image/png": "[encoded data removed]",
      "text/plain": [
       "<Figure size 640x480 with 1 Axes>"
      ]
     },
     "metadata": {},
     "output_type": "display_data"
    },
    {
     "name": "stdout",
     "output_type": "stream",
     "text": [
      "predicted labels: [113  93  96 ... 122  18 120]\n"
     ]
    }
   ],
   "source": [
    "dataset_path='../../dataset/rgbd_dataset_freiburg1_floor/'\n",
    "\n",
    "update_kmean(dataset_path,100)"
   ]
  },
  {
   "cell_type": "code",
   "execution_count": null,
   "metadata": {},
   "outputs": [],
   "source": [
    "dataset_path1='../../dataset/rgbd_dataset_freiburg1_floor/'\n",
    "update_kmean(dataset_path1)\n",
    "dataset_path2='../../dataset/rgbd_dataset_freiburg1_xyz/'\n",
    "update_kmean(dataset_path2)\n",
    "dataset_path3='../../dataset/rgbd_dataset_freiburg2_floor/'\n",
    "update_kmean(dataset_path3)\n",
    "dataset_path4='../../dataset/rgbd_dataset_freiburg2_floor/'\n",
    "update_kmean(dataset_path4)\n",
    "\n"
   ]
  },
  {
   "cell_type": "code",
   "execution_count": 9,
   "metadata": {},
   "outputs": [
    {
     "name": "stdout",
     "output_type": "stream",
     "text": [
      "/home/sujan/.local/lib/python3.8/site-packages/ipykernel_launcher.py--f=/home/sujan/.local/share/jupyter/runtime/kernel-v2-45147FtVh6O6L3Tc.json"
     ]
    }
   ],
   "source": [
    "import sys\n",
    "for thing in sys.argv:\n",
    "    print(thing,end='')\n"
   ]
  },
  {
   "cell_type": "code",
   "execution_count": null,
   "metadata": {},
   "outputs": [],
   "source": []
  }
 ],
 "metadata": {
  "kernelspec": {
   "display_name": "Python 3",
   "language": "python",
   "name": "python3"
  },
  "language_info": {
   "codemirror_mode": {
    "name": "ipython",
    "version": 3
   },
   "file_extension": ".py",
   "mimetype": "text/x-python",
   "name": "python",
   "nbconvert_exporter": "python",
   "pygments_lexer": "ipython3",
   "version": "3.8.10"
  }
 },
 "nbformat": 4,
 "nbformat_minor": 2
}

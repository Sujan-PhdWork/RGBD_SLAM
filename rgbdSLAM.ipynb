{
 "cells": [
  {
   "cell_type": "code",
   "execution_count": 1,
   "metadata": {},
   "outputs": [],
   "source": [
    "%load_ext autoreload\n",
    "%autoreload 2"
   ]
  },
  {
   "cell_type": "code",
   "execution_count": 146,
   "metadata": {},
   "outputs": [],
   "source": [
    "import cv2\n",
    "import numpy as np\n",
    "from utils import *\n",
    "from extractor import Extractor\n",
    "import matplotlib.pyplot as plt\n",
    "from transformation import *\n",
    "from ransac import *\n"
   ]
  },
  {
   "cell_type": "code",
   "execution_count": 147,
   "metadata": {},
   "outputs": [],
   "source": [
    "fe=Extractor()"
   ]
  },
  {
   "cell_type": "code",
   "execution_count": 118,
   "metadata": {},
   "outputs": [],
   "source": []
  },
  {
   "cell_type": "code",
   "execution_count": 148,
   "metadata": {},
   "outputs": [],
   "source": [
    "\n",
    "def process_img(img,depth):\n",
    "    matches=fe.extract(img,depth)\n",
    "    # ransac(matches)\n",
    "    # print(matches[:-1][0])\n",
    "    \n",
    "    # projected_map(matches,depth)\n",
    "    for kp1,kp2 in matches:\n",
    "        u1,v1,_=map(lambda x: int(round(x)),kp1)\n",
    "        u2,v2,_=map(lambda x: int(round(x)),kp2)\n",
    "        cv2.circle(img,(u1,v1),color=(0,255,0),radius=3)\n",
    "        cv2.line(img,(u1,v1),(u2,v2),color=(255,0,0))\n",
    "        disp(img,\"RGB\")\n",
    "\n",
    "\n"
   ]
  },
  {
   "cell_type": "code",
   "execution_count": 149,
   "metadata": {},
   "outputs": [],
   "source": [
    "if __name__ == \"__main__\":\n",
    "    \n",
    "    depth_paths='../rgbd_dataset_freiburg1_xyz/depth.txt'\n",
    "    dlist=data(depth_paths)\n",
    "\n",
    "    rgb_paths='../rgbd_dataset_freiburg1_xyz/rgb.txt'\n",
    "    ilist=data(rgb_paths)\n",
    "\n",
    "    dataset_path='../rgbd_dataset_freiburg1_xyz/'\n",
    "    \n",
    "\n",
    "    for i in range(len(dlist)):\n",
    "\n",
    "        frame=cv2.imread(dataset_path+ilist[i])\n",
    "        depth=cv2.imread(dataset_path+dlist[i],0)\n",
    "        # print(frame.shape,depth.shape)\n",
    "\n",
    "\n",
    "        process_img(frame,depth)\n",
    "        # print(frame)\n",
    "\n",
    "        if frame is None:\n",
    "            print(\"End of frame\")\n",
    "            break\n",
    "\n",
    "        \n",
    "        disp(depth,\"Depth\")\n",
    "        \n",
    "        if cv2.waitKey(1) & 0xFF == ord('q'):\n",
    "            break\n",
    "    cv2.destroyAllWindows()\n",
    "\n",
    "\n",
    "        \n"
   ]
  },
  {
   "cell_type": "code",
   "execution_count": 22,
   "metadata": {},
   "outputs": [],
   "source": []
  },
  {
   "cell_type": "code",
   "execution_count": 12,
   "metadata": {},
   "outputs": [],
   "source": []
  },
  {
   "cell_type": "code",
   "execution_count": 89,
   "metadata": {},
   "outputs": [],
   "source": [
    "th=np.pi*0/180.0\n",
    "\n",
    "# R1=np.array([[np.cos(th),-np.sin(th),0],\n",
    "#             [np.sin(th),np.cos(th),0],\n",
    "#             [0,0,1]])\n",
    "R1=np.array([[np.cos(th),-np.sin(th)],\n",
    "            [np.sin(th),np.cos(th)]])\n",
    "            \n",
    "\n",
    "c1=1\n",
    "t1=np.array([100,0]).T\n",
    "\n",
    "# kp1=np.array([[1,2,3],[5,6,7]])\n",
    "kp1=50*np.random.rand(2,100)\n",
    "\n",
    "\n",
    "\n",
    "\n",
    "matches=[]\n",
    "for i in range(kp1.shape[1]):\n",
    "    k1=kp1[:,i]\n",
    "    # k1 = tuple(k1)\n",
    "    noise=np.random.rand(2)\n",
    "    k2=c1*np.dot(R1,kp1[:,i])+t1+noise\n",
    "    # print(k2.shape,noise.shape)\n",
    "    # k2 = tuple(k2)\n",
    "    matches.append((k1,k2))\n",
    "\n",
    "# print(matches)\n",
    "\n",
    "\n",
    "\n",
    "\n",
    "# params=ransac(matches)\n",
    "# print(params['c'])\n",
    "\n"
   ]
  },
  {
   "cell_type": "code",
   "execution_count": null,
   "metadata": {},
   "outputs": [],
   "source": []
  },
  {
   "cell_type": "code",
   "execution_count": 90,
   "metadata": {},
   "outputs": [
    {
     "data": {
      "image/png": "[encoded data removed]",
      "text/plain": [
       "<Figure size 640x480 with 1 Axes>"
      ]
     },
     "metadata": {},
     "output_type": "display_data"
    }
   ],
   "source": [
    "coordinate_array=np.array(matches)\n",
    "kp1=coordinate_array[:,0,:].T\n",
    "kp2=coordinate_array[:,1,:].T\n",
    "\n",
    "plt.scatter(kp1[0,:],kp1[1,:])\n",
    "plt.scatter(kp2[0,:],kp2[1,:])\n",
    "plt.show()\n",
    "\n",
    "T=Transformation()\n",
    "T.compute_parameter(kp1,kp2)\n",
    "error=T.error(kp1,kp2)\n",
    "# print(error)"
   ]
  },
  {
   "cell_type": "code",
   "execution_count": 7,
   "metadata": {},
   "outputs": [
    {
     "name": "stdout",
     "output_type": "stream",
     "text": [
      "[[ 8.66025404e-01 -5.00000000e-01  3.32589284e-16]\n",
      " [ 5.00000000e-01  8.66025404e-01  3.65068883e-16]\n",
      " [-4.56226080e-16  7.97984205e-16  1.00000000e+00]]\n"
     ]
    }
   ],
   "source": [
    "R2=params['R']\n",
    "t2=params['t']\n",
    "c2=params['c']\n",
    "\n",
    "\n",
    "matches2=[]\n",
    "\n",
    "for i in range(kp1.shape[1]):\n",
    "    k1=kp1[:,i]\n",
    "    k1 = tuple(k1)\n",
    "    k2=c2*np.dot(R2,kp1[:,i])+t2\n",
    "    k2 = tuple(k2)\n",
    "    matches2.append((k1,k2))\n",
    "print(R2)"
   ]
  },
  {
   "cell_type": "code",
   "execution_count": null,
   "metadata": {},
   "outputs": [],
   "source": []
  },
  {
   "cell_type": "code",
   "execution_count": 93,
   "metadata": {},
   "outputs": [],
   "source": [
    "ransac=RANSAC(matches,T,3,0.5,100)\n",
    "best_params,best_inlier,error=ransac.solve()\n"
   ]
  },
  {
   "cell_type": "code",
   "execution_count": 103,
   "metadata": {},
   "outputs": [
    {
     "name": "stdout",
     "output_type": "stream",
     "text": [
      "80\n"
     ]
    }
   ],
   "source": [
    "R2=best_params['R']\n",
    "t2=best_params['t']\n",
    "c2=best_params['c']\n",
    "\n",
    "matches2=np.array(matches)\n",
    "\n",
    "matches2=matches2[best_inlier]\n",
    "\n",
    "print(np.sum(best_inlier))\n",
    "# matches2=[]\n",
    "# for i in range(kp1.shape[1]):\n",
    "#     k1=kp1[:,i]\n",
    "#     # k1 = tuple(k1)\n",
    "#     noise=np.random.rand(2)\n",
    "#     k2=c2*np.dot(R2,kp1[:,i])+t2.reshape(2)\n",
    "#     # print(k2.shape,t2.shape)\n",
    "#     # k2 = tuple(k2)\n",
    "#     matches2.append((k1,k2))\n"
   ]
  },
  {
   "cell_type": "code",
   "execution_count": 102,
   "metadata": {},
   "outputs": [
    {
     "data": {
      "image/png": "[encoded data removed]",
      "text/plain": [
       "<Figure size 640x480 with 1 Axes>"
      ]
     },
     "metadata": {},
     "output_type": "display_data"
    }
   ],
   "source": [
    "coordinate_array=np.array(matches2)\n",
    "kp1=coordinate_array[:,0,:].T\n",
    "kp2=coordinate_array[:,1,:].T\n",
    "\n",
    "plt.scatter(kp1[0,:],kp1[1,:])\n",
    "plt.scatter(kp2[0,:],kp2[1,:])\n",
    "plt.show()"
   ]
  },
  {
   "cell_type": "code",
   "execution_count": 96,
   "metadata": {},
   "outputs": [
    {
     "name": "stdout",
     "output_type": "stream",
     "text": [
      "{'R': array([[ 0.9999963 , -0.00271925],\n",
      "       [ 0.00271925,  0.9999963 ]]), 't': array([[100.46905313],\n",
      "       [  0.23909838]]), 'c': 1.0049971540656797}\n"
     ]
    }
   ],
   "source": [
    "print(best_params)"
   ]
  }
 ],
 "metadata": {
  "kernelspec": {
   "display_name": "Python 3",
   "language": "python",
   "name": "python3"
  },
  "language_info": {
   "codemirror_mode": {
    "name": "ipython",
    "version": 3
   },
   "file_extension": ".py",
   "mimetype": "text/x-python",
   "name": "python",
   "nbconvert_exporter": "python",
   "pygments_lexer": "ipython3",
   "version": "3.8.10"
  }
 },
 "nbformat": 4,
 "nbformat_minor": 2
}

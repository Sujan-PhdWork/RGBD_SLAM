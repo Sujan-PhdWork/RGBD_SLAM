{
 "cells": [
  {
   "cell_type": "code",
   "execution_count": 20,
   "metadata": {},
   "outputs": [
    {
     "name": "stdout",
     "output_type": "stream",
     "text": [
      "The autoreload extension is already loaded. To reload it, use:\n",
      "  %reload_ext autoreload\n"
     ]
    }
   ],
   "source": [
    "%load_ext autoreload\n",
    "%autoreload 2"
   ]
  },
  {
   "cell_type": "code",
   "execution_count": 21,
   "metadata": {},
   "outputs": [],
   "source": [
    "import cv2\n",
    "import numpy as np\n",
    "from utils import *\n",
    "from frame import extract,match,Frame\n"
   ]
  },
  {
   "cell_type": "code",
   "execution_count": 22,
   "metadata": {},
   "outputs": [],
   "source": [
    "W,H=640,480\n",
    "K=np.array([[1,0,W//2],[0,1,H//2],[0,0,1]])"
   ]
  },
  {
   "cell_type": "code",
   "execution_count": 23,
   "metadata": {},
   "outputs": [],
   "source": [
    "frames=[]"
   ]
  },
  {
   "cell_type": "code",
   "execution_count": 24,
   "metadata": {},
   "outputs": [],
   "source": [
    "\n",
    "def process_img(img,depth):\n",
    "\n",
    "    frame=Frame(img,depth,K)\n",
    "    frames.append(frame)\n",
    "\n",
    "\n",
    "    if len(frames)<=1:\n",
    "        return\n",
    "    f_c=frames[-1] #current frame\n",
    "    f_p=frames[-2] # previous frame\n",
    "    ret,pose=match(f_p,f_c)\n",
    "\n",
    "    # pose relative transformation of current frame  \n",
    "    # with respect to previous frame \n",
    "\n",
    "    if ret is None:\n",
    "        return\n",
    "    \n",
    "    if pose is None:\n",
    "        return\n",
    "\n",
    "\n",
    "    for kp1,kp2 in ret:\n",
    "        u_p,v_p,_=denormalize(kp1,f_p.K)\n",
    "        u_c,v_c,_=denormalize(kp2,f_c.K)\n",
    "\n",
    "        cv2.circle(img,(u_p,v_p),color=(0,255,0),radius=3)\n",
    "        cv2.line(img,(u_p,v_p),(u_c,v_c),color=(255,0,0))\n",
    "    disp(img,\"RGB\")\n",
    "\n",
    "\n"
   ]
  },
  {
   "cell_type": "code",
   "execution_count": 25,
   "metadata": {},
   "outputs": [],
   "source": [
    "if __name__ == \"__main__\":\n",
    "    \n",
    "    depth_paths='../dataset/rgbd_dataset_freiburg1_xyz/depth.txt'\n",
    "    dlist=data(depth_paths)\n",
    "\n",
    "    rgb_paths='../dataset/rgbd_dataset_freiburg1_xyz/rgb.txt'\n",
    "    ilist=data(rgb_paths)\n",
    "\n",
    "    dataset_path='../dataset/rgbd_dataset_freiburg1_xyz/'\n",
    "    \n",
    "\n",
    "    for i in range(len(dlist)):\n",
    "\n",
    "        frame=cv2.imread(dataset_path+ilist[i])\n",
    "        depth=cv2.imread(dataset_path+dlist[i],0)\n",
    "        # print(frame.shape,depth.shape)\n",
    "        W=frame.shape[1]\n",
    "        H=frame.shape[0]\n",
    "        # print(W,H)\n",
    "        process_img(frame,depth)\n",
    "        # print(frame)\n",
    "\n",
    "        if frame is None:\n",
    "            print(\"End of frame\")\n",
    "            break\n",
    "\n",
    "        \n",
    "        disp(depth,\"Depth\")\n",
    "        \n",
    "        if cv2.waitKey(1) & 0xFF == ord('q'):\n",
    "            break\n",
    "    cv2.destroyAllWindows()\n",
    "\n",
    "\n",
    "        \n"
   ]
  }
 ],
 "metadata": {
  "kernelspec": {
   "display_name": "Python 3",
   "language": "python",
   "name": "python3"
  },
  "language_info": {
   "codemirror_mode": {
    "name": "ipython",
    "version": 3
   },
   "file_extension": ".py",
   "mimetype": "text/x-python",
   "name": "python",
   "nbconvert_exporter": "python",
   "pygments_lexer": "ipython3",
   "version": "3.8.10"
  }
 },
 "nbformat": 4,
 "nbformat_minor": 2
}

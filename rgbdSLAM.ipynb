{
 "cells": [
  {
   "cell_type": "code",
   "execution_count": 173,
   "metadata": {},
   "outputs": [
    {
     "name": "stdout",
     "output_type": "stream",
     "text": [
      "The autoreload extension is already loaded. To reload it, use:\n",
      "  %reload_ext autoreload\n"
     ]
    }
   ],
   "source": [
    "%load_ext autoreload\n",
    "%autoreload 2"
   ]
  },
  {
   "cell_type": "code",
   "execution_count": 226,
   "metadata": {},
   "outputs": [],
   "source": [
    "import cv2\n",
    "import numpy as np\n",
    "from utils import *\n",
    "from extractor import *\n",
    "import matplotlib.pyplot as plt\n"
   ]
  },
  {
   "cell_type": "code",
   "execution_count": 227,
   "metadata": {},
   "outputs": [],
   "source": [
    "# fe=Extractor()\n",
    "frames=[]"
   ]
  },
  {
   "cell_type": "code",
   "execution_count": 228,
   "metadata": {},
   "outputs": [],
   "source": [
    "\n",
    "\n",
    "def process_img(img,depth):\n",
    "\n",
    "    frame=Frame(img,depth)\n",
    "    frames.append(frame)\n",
    "\n",
    "    if len(frames)<=1:\n",
    "        return\n",
    "    ret,pose=match(frames[-1],frames[-2])\n",
    "\n",
    "    if ret is None:\n",
    "        return\n",
    "    \n",
    "    if pose is None:\n",
    "        return\n",
    "\n",
    "    for kp1,kp2 in ret:\n",
    "        u1,v1,_=map(lambda x: int(round(x)),kp1)\n",
    "        u2,v2,_=map(lambda x: int(round(x)),kp2)\n",
    "\n",
    "        cv2.circle(img,(u1,v1),color=(0,255,0),radius=3)\n",
    "        cv2.line(img,(u1,v1),(u2,v2),color=(255,0,0))\n",
    "    disp(img,\"RGB\")\n",
    "\n",
    "\n"
   ]
  },
  {
   "cell_type": "code",
   "execution_count": 229,
   "metadata": {},
   "outputs": [],
   "source": [
    "if __name__ == \"__main__\":\n",
    "    \n",
    "    depth_paths='../rgbd_dataset_freiburg1_xyz/depth.txt'\n",
    "    dlist=data(depth_paths)\n",
    "\n",
    "    rgb_paths='../rgbd_dataset_freiburg1_xyz/rgb.txt'\n",
    "    ilist=data(rgb_paths)\n",
    "\n",
    "    dataset_path='../rgbd_dataset_freiburg1_xyz/'\n",
    "    \n",
    "\n",
    "    for i in range(len(dlist)):\n",
    "\n",
    "        frame=cv2.imread(dataset_path+ilist[i])\n",
    "        depth=cv2.imread(dataset_path+dlist[i],0)\n",
    "        # print(frame.shape,depth.shape)\n",
    "\n",
    "\n",
    "        process_img(frame,depth)\n",
    "        # print(frame)\n",
    "\n",
    "        if frame is None:\n",
    "            print(\"End of frame\")\n",
    "            break\n",
    "\n",
    "        \n",
    "        disp(depth,\"Depth\")\n",
    "        \n",
    "        if cv2.waitKey(1) & 0xFF == ord('q'):\n",
    "            break\n",
    "    cv2.destroyAllWindows()\n",
    "\n",
    "\n",
    "        \n"
   ]
  }
 ],
 "metadata": {
  "kernelspec": {
   "display_name": "Python 3",
   "language": "python",
   "name": "python3"
  },
  "language_info": {
   "codemirror_mode": {
    "name": "ipython",
    "version": 3
   },
   "file_extension": ".py",
   "mimetype": "text/x-python",
   "name": "python",
   "nbconvert_exporter": "python",
   "pygments_lexer": "ipython3",
   "version": "3.8.10"
  }
 },
 "nbformat": 4,
 "nbformat_minor": 2
}

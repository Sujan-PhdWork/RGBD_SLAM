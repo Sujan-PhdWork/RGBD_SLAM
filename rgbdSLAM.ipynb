{
 "cells": [
  {
   "cell_type": "code",
   "execution_count": null,
   "metadata": {},
   "outputs": [],
   "source": []
  },
  {
   "cell_type": "code",
   "execution_count": 7,
   "metadata": {},
   "outputs": [
    {
     "name": "stdout",
     "output_type": "stream",
     "text": [
      "The autoreload extension is already loaded. To reload it, use:\n",
      "  %reload_ext autoreload\n"
     ]
    }
   ],
   "source": [
    "%load_ext autoreload\n",
    "%autoreload 2"
   ]
  },
  {
   "cell_type": "code",
   "execution_count": 1,
   "metadata": {},
   "outputs": [],
   "source": [
    "import cv2\n",
    "import numpy as np\n",
    "from utils import *\n",
    "from frame import *\n",
    "import matplotlib.pyplot as plt\n",
    "import g2o\n",
    "import pangolin\n",
    "import OpenGL.GL as gl\n",
    "\n"
   ]
  },
  {
   "cell_type": "code",
   "execution_count": 2,
   "metadata": {},
   "outputs": [],
   "source": [
    "np.set_printoptions(suppress=True)"
   ]
  },
  {
   "cell_type": "code",
   "execution_count": 3,
   "metadata": {},
   "outputs": [],
   "source": [
    "# fe=Extractor()\n",
    "# frames=[]"
   ]
  },
  {
   "cell_type": "code",
   "execution_count": 4,
   "metadata": {},
   "outputs": [],
   "source": [
    "# def project (pose,pts):\n"
   ]
  },
  {
   "cell_type": "code",
   "execution_count": 5,
   "metadata": {},
   "outputs": [],
   "source": [
    "class Map(object):\n",
    "    def __init__(self):\n",
    "        self.frames=[]\n",
    "        self.points=[]\n",
    "        self.viewer_init()\n",
    "\n",
    "    def viewer_init(self):\n",
    "        pangolin.CreateWindowAndBind('Main', 640, 480)\n",
    "        gl.glEnable(gl.GL_DEPTH_TEST)\n",
    "\n",
    "        self.scam = pangolin.OpenGlRenderState(\n",
    "            pangolin.ProjectionMatrix(640, 480, 420, 420, 320, 240, 0.2, 100),\n",
    "            pangolin.ModelViewLookAt(-2, 2, -2, 0, 0, 0, pangolin.AxisDirection.AxisY))\n",
    "        self.handler = pangolin.Handler3D(self.scam)\n",
    "\n",
    "        # Create Interactive View in window\n",
    "        self.dcam = pangolin.CreateDisplay()\n",
    "        self.dcam.SetBounds(0.0, 1.0, 0.0, 1.0, -640.0/480.0)\n",
    "        self.dcam.SetHandler(self.handler)\n",
    "    \n",
    "    def viewer_refresh(self):\n",
    "        gl.glClear(gl.GL_COLOR_BUFFER_BIT | gl.GL_DEPTH_BUFFER_BIT)\n",
    "        gl.glClearColor(1.0, 1.0, 1.0, 1.0)\n",
    "        self.dcam.Activate(self.scam)\n",
    "        \n",
    "        # Render OpenGL Cube\n",
    "        pangolin.glDrawColouredCube()\n",
    "\n",
    "        # Draw Point Cloud\n",
    "        # points = np.random.random((100000, 3)) * 10\n",
    "        # colors = np.zeros((len(points), 3))\n",
    "        # colors[:, 1] = 1 -points[:, 0] / 10.\n",
    "        # colors[:, 2] = 1 - points[:, 1] / 10.\n",
    "        # colors[:, 0] = 1 - points[:, 2] / 10.\n",
    "\n",
    "        gl.glPointSize(10)\n",
    "        gl.glColor3f(1.0, 0.0, 0.0)\n",
    "        # access numpy array directly(without copying data), array should be contiguous.\n",
    "        ppts=np.array([d[:3,3] for d in self.state[0]])\n",
    "        pangolin.DrawPoints(ppts)\n",
    "        #pangolin.DrawPoints(points)  \n",
    "\n",
    "        gl.glPointSize(10)\n",
    "        gl.glColor3f(0.0, 1.0, 0.0)\n",
    "        # # access numpy array directly(without copying data), array should be contiguous.\n",
    "        spts=np.array(self.state[1])\n",
    "\n",
    "        pangolin.DrawPoints(spts)\n",
    "        pangolin.FinishFrame()\n",
    "\n",
    "\n",
    "\n",
    "\n",
    "    def display(self):\n",
    "        poses,pts=[],[]\n",
    "        for f in self.frames:\n",
    "            poses.append(f.pose)\n",
    "        for p in self.points:\n",
    "            pts.append(p.pt)\n",
    "        self.state=poses,pts\n",
    "\n",
    "\n",
    "        self.viewer_refresh()"
   ]
  },
  {
   "cell_type": "code",
   "execution_count": 6,
   "metadata": {},
   "outputs": [],
   "source": [
    "mapp=Map()"
   ]
  },
  {
   "cell_type": "code",
   "execution_count": 7,
   "metadata": {},
   "outputs": [],
   "source": [
    "\n",
    "class Point(object):\n",
    "    # apoint is a 3D point in the world\n",
    "    #each Point is observed in multiple frame\n",
    "    def __init__(self,mapp,loc):\n",
    "        self.pt=loc #state vector\n",
    "        self.frames=[]\n",
    "        self.idxs=[]\n",
    "\n",
    "        self.id=len(mapp.points)\n",
    "        mapp.points.append(self)\n",
    "\n",
    "    def add_observation(self,frame,idx):\n",
    "        self.frames.append(frame)\n",
    "        self.idxs.append(idx)"
   ]
  },
  {
   "cell_type": "code",
   "execution_count": 8,
   "metadata": {},
   "outputs": [],
   "source": [
    "\n",
    "\n",
    "def process_img(img,depth):\n",
    "\n",
    "    frame=Frame(mapp,img,depth)\n",
    "    # frames.append(frame)\n",
    "\n",
    "    if frame.id==0:\n",
    "        return\n",
    "    \n",
    "    f1=mapp.frames[-1]\n",
    "    f2=mapp.frames[-2]\n",
    "    idx1,idx2,pose=match(f1,f2)\n",
    "\n",
    "    \n",
    "    if idx1 is None:\n",
    "        return\n",
    "    if idx2 is None:\n",
    "        return\n",
    "    \n",
    "    if pose is None:\n",
    "        return\n",
    "    \n",
    "    f1.pose=np.dot(pose,f2.pose)\n",
    "\n",
    "    # print(frames[-1].pts)\n",
    "    pt4ds=add_ones(f1.pts[idx1])\n",
    "    # print(pt4d.shape)\n",
    "    pt4ds=np.dot(f2.pose,pt4ds.T).T\n",
    "    # print(idx1)\n",
    "    # print(pt4ds.shape)\n",
    "\n",
    "    for i,p in enumerate(pt4ds):\n",
    "        pt=Point(mapp,p)\n",
    "        pt.add_observation(f1,idx1[i])\n",
    "        pt.add_observation(f2,idx2[i])\n",
    "    \n",
    "    # print(pt4d[:,0])\n",
    "    \n",
    "    \n",
    "\n",
    "    # print(frames[-1].pose)\n",
    "\n",
    "    for kp1,kp2 in zip(f1.pts[idx1],f2.pts[idx2]):\n",
    "        u1,v1,_=map(lambda x: int(round(x)),kp1)\n",
    "        u2,v2,_=map(lambda x: int(round(x)),kp2)\n",
    "\n",
    "        cv2.circle(img,(u1,v1),color=(0,255,0),radius=3)\n",
    "        cv2.line(img,(u1,v1),(u2,v2),color=(255,0,0))\n",
    "    disp(img,\"RGB\")\n",
    "\n",
    "    mapp.display()\n",
    "\n",
    "\n"
   ]
  },
  {
   "cell_type": "code",
   "execution_count": 9,
   "metadata": {},
   "outputs": [],
   "source": [
    "if __name__ == \"__main__\":\n",
    "    \n",
    "    depth_paths='../rgbd_dataset_freiburg1_xyz/depth.txt'\n",
    "    dlist=data(depth_paths)\n",
    "\n",
    "    rgb_paths='../rgbd_dataset_freiburg1_xyz/rgb.txt'\n",
    "    ilist=data(rgb_paths)\n",
    "\n",
    "    dataset_path='../rgbd_dataset_freiburg1_xyz/'\n",
    "    \n",
    "\n",
    "    for i in range(len(dlist)):\n",
    "\n",
    "        frame=cv2.imread(dataset_path+ilist[i])\n",
    "        depth=cv2.imread(dataset_path+dlist[i],0)\n",
    "        # print(frame.shape,depth.shape)\n",
    "\n",
    "\n",
    "        process_img(frame,depth)\n",
    "        # print(frame)\n",
    "\n",
    "        if frame is None:\n",
    "            print(\"End of frame\")\n",
    "            break\n",
    "\n",
    "        \n",
    "        disp(depth,\"Depth\")\n",
    "        \n",
    "        if cv2.waitKey(1) & 0xFF == ord('q'):\n",
    "            break\n",
    "    cv2.destroyAllWindows()\n",
    "\n",
    "\n",
    "        \n"
   ]
  }
 ],
 "metadata": {
  "kernelspec": {
   "display_name": "Python 3",
   "language": "python",
   "name": "python3"
  },
  "language_info": {
   "codemirror_mode": {
    "name": "ipython",
    "version": 3
   },
   "file_extension": ".py",
   "mimetype": "text/x-python",
   "name": "python",
   "nbconvert_exporter": "python",
   "pygments_lexer": "ipython3",
   "version": "3.8.10"
  }
 },
 "nbformat": 4,
 "nbformat_minor": 2
}

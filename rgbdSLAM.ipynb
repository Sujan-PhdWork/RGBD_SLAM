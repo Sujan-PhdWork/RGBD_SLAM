{
 "cells": [
  {
   "cell_type": "code",
   "execution_count": 1,
   "metadata": {},
   "outputs": [],
   "source": [
    "%load_ext autoreload\n",
    "%autoreload 2"
   ]
  },
  {
   "cell_type": "code",
   "execution_count": 9,
   "metadata": {},
   "outputs": [],
   "source": [
    "import cv2\n",
    "import numpy as np\n",
    "from utils import *\n",
    "from frame import extract,match,Frame\n"
   ]
  },
  {
   "cell_type": "code",
   "execution_count": 10,
   "metadata": {},
   "outputs": [],
   "source": [
    "np.set_printoptions(suppress=True)"
   ]
  },
  {
   "cell_type": "code",
   "execution_count": 11,
   "metadata": {},
   "outputs": [],
   "source": [
    "W,H=640,480\n",
    "K=np.array([[1,0,W//2],[0,1,H//2],[0,0,1]])"
   ]
  },
  {
   "cell_type": "code",
   "execution_count": null,
   "metadata": {},
   "outputs": [],
   "source": []
  },
  {
   "cell_type": "code",
   "execution_count": 12,
   "metadata": {},
   "outputs": [],
   "source": [
    "class Map(object):\n",
    "    def __init__(self):\n",
    "        self.frames=[]\n",
    "        self.points=[]\n",
    "    def display(self):\n",
    "        for f in self.frames:\n",
    "            print(f.id)\n",
    "            print(f.pose)"
   ]
  },
  {
   "cell_type": "code",
   "execution_count": 24,
   "metadata": {},
   "outputs": [],
   "source": [
    "class Point(object):\n",
    "    def __init__(self,mapp,loc):\n",
    "        self.pt=loc\n",
    "        self.frames=[]\n",
    "        self.idxs=[]\n",
    "\n",
    "        self.id=len(mapp.points)\n",
    "        mapp.points.append(self)\n",
    "\n",
    "    def add_observation(self,frame,idx):\n",
    "        self.frames.append(frame)\n",
    "        self.idxs.append(idx)"
   ]
  },
  {
   "cell_type": "code",
   "execution_count": 25,
   "metadata": {},
   "outputs": [],
   "source": [
    "frames=[]\n",
    "mapp=Map()"
   ]
  },
  {
   "cell_type": "code",
   "execution_count": 26,
   "metadata": {},
   "outputs": [],
   "source": [
    "\n",
    "def process_img(img,depth):\n",
    "\n",
    "    frame=Frame(mapp,img,depth,K)\n",
    "    frames.append(frame)\n",
    "\n",
    "\n",
    "    if len(frames)<=1:\n",
    "        return\n",
    "    f_c=frames[-1] #current frame\n",
    "    f_p=frames[-2] # previous frame\n",
    "    \n",
    "    \n",
    "    idx1,idx2,pose=match(f_p,f_c)\n",
    "    \n",
    "    \n",
    "    # idx1-> id of the keypoint in previous frame\n",
    "    # idx2-> id of the keypoint in current frame\n",
    "    # pose relative transformation of current frame  \n",
    "    # with respect to previous frame \n",
    "\n",
    "    assert len(idx1)>0\n",
    "    assert len(idx2)>0\n",
    "    \n",
    "    if pose is None:\n",
    "        return\n",
    "    \n",
    "\n",
    "\n",
    "    f_c.pose=np.dot(pose,f_p.pose)\n",
    "    # print(f_c.pose)\n",
    "\n",
    "    pts4d=add_ones(f_c.kps[idx2])\n",
    "    pts4d=np.dot(f_p.pose,pts4d.T).T\n",
    "\n",
    "    for i, pt in enumerate(pts4d):\n",
    "        pt=Point(mapp,pt)\n",
    "        pt.add_observation(f_p,idx1[i])\n",
    "        pt.add_observation(f_c,idx2[i])\n",
    "    \n",
    "    print()\n",
    "\n",
    "\n",
    "    for kp1,kp2 in zip(f_p.kps[idx1],f_c.kps[idx2]):\n",
    "        u_p,v_p,_=denormalize(kp1,f_p.K)\n",
    "        u_c,v_c,_=denormalize(kp2,f_c.K)\n",
    "        # u_p,v_p,_=kp1\n",
    "\n",
    "        cv2.circle(img,(u_p,v_p),color=(0,255,0),radius=3)\n",
    "        cv2.line(img,(u_p,v_p),(u_c,v_c),color=(255,0,0))\n",
    "    disp(img,\"RGB\")\n",
    "    # mapp.display()\n",
    "\n",
    "\n"
   ]
  },
  {
   "cell_type": "code",
   "execution_count": 27,
   "metadata": {},
   "outputs": [
    {
     "name": "stdout",
     "output_type": "stream",
     "text": [
      "\n",
      "\n",
      "\n",
      "\n",
      "\n",
      "\n",
      "\n",
      "\n",
      "\n",
      "\n",
      "\n",
      "\n",
      "\n",
      "\n",
      "\n"
     ]
    }
   ],
   "source": [
    "if __name__ == \"__main__\":\n",
    "    \n",
    "    depth_paths='../dataset/rgbd_dataset_freiburg1_xyz/depth.txt'\n",
    "    dlist=data(depth_paths)\n",
    "\n",
    "    rgb_paths='../dataset/rgbd_dataset_freiburg1_xyz/rgb.txt'\n",
    "    ilist=data(rgb_paths)\n",
    "\n",
    "    dataset_path='../dataset/rgbd_dataset_freiburg1_xyz/'\n",
    "    \n",
    "\n",
    "    for i in range(len(dlist)):\n",
    "\n",
    "        frame=cv2.imread(dataset_path+ilist[i])\n",
    "        depth=cv2.imread(dataset_path+dlist[i],0)\n",
    "        # print(frame.shape,depth.shape)\n",
    "        W=frame.shape[1]\n",
    "        H=frame.shape[0]\n",
    "        # print(W,H)\n",
    "        process_img(frame,depth)\n",
    "        # print(frame)\n",
    "\n",
    "        if frame is None:\n",
    "            print(\"End of frame\")\n",
    "            break\n",
    "\n",
    "        \n",
    "        disp(depth,\"Depth\")\n",
    "        \n",
    "        if cv2.waitKey(1) & 0xFF == ord('q'):\n",
    "            break\n",
    "    cv2.destroyAllWindows()\n",
    "\n",
    "\n",
    "        \n"
   ]
  }
 ],
 "metadata": {
  "kernelspec": {
   "display_name": "Python 3",
   "language": "python",
   "name": "python3"
  },
  "language_info": {
   "codemirror_mode": {
    "name": "ipython",
    "version": 3
   },
   "file_extension": ".py",
   "mimetype": "text/x-python",
   "name": "python",
   "nbconvert_exporter": "python",
   "pygments_lexer": "ipython3",
   "version": "3.8.10"
  }
 },
 "nbformat": 4,
 "nbformat_minor": 2
}
